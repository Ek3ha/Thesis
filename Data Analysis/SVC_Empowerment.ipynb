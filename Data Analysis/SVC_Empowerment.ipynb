{
  "cells": [
    {
      "cell_type": "code",
      "execution_count": 7,
      "metadata": {},
      "outputs": [
        {
          "name": "stdout",
          "output_type": "stream",
          "text": [
            "^C\n",
            "Note: you may need to restart the kernel to use updated packages.\n"
          ]
        },
        {
          "name": "stdout",
          "output_type": "stream",
          "text": [
            "Collecting pandas\n",
            "  Downloading pandas-2.2.1-cp311-cp311-win_amd64.whl (11.6 MB)\n",
            "     ---------------------------------------- 11.6/11.6 MB 6.6 MB/s eta 0:00:00\n",
            "Requirement already satisfied: numpy<2,>=1.23.2 in c:\\users\\adith\\appdata\\local\\programs\\python\\python311\\lib\\site-packages (from pandas) (1.26.4)\n",
            "Requirement already satisfied: python-dateutil>=2.8.2 in c:\\users\\adith\\appdata\\roaming\\python\\python311\\site-packages (from pandas) (2.9.0.post0)\n",
            "Collecting pytz>=2020.1\n",
            "  Downloading pytz-2024.1-py2.py3-none-any.whl (505 kB)\n",
            "     -------------------------------------- 505.5/505.5 kB 7.9 MB/s eta 0:00:00\n",
            "Collecting tzdata>=2022.7\n",
            "  Downloading tzdata-2024.1-py2.py3-none-any.whl (345 kB)\n",
            "     -------------------------------------- 345.4/345.4 kB 5.3 MB/s eta 0:00:00\n",
            "Requirement already satisfied: six>=1.5 in c:\\users\\adith\\appdata\\roaming\\python\\python311\\site-packages (from python-dateutil>=2.8.2->pandas) (1.16.0)\n",
            "Installing collected packages: pytz, tzdata, pandas\n",
            "Successfully installed pandas-2.2.1 pytz-2024.1 tzdata-2024.1\n"
          ]
        },
        {
          "name": "stderr",
          "output_type": "stream",
          "text": [
            "\n",
            "[notice] A new release of pip available: 22.3.1 -> 24.0\n",
            "[notice] To update, run: python.exe -m pip install --upgrade pip\n"
          ]
        }
      ],
      "source": [
        "%pip install pandas"
      ]
    },
    {
      "cell_type": "code",
      "execution_count": 40,
      "metadata": {
        "id": "OWlGRZBs483p"
      },
      "outputs": [],
      "source": [
        "#Import necessary packages\n",
        "\n",
        "import re\n",
        "from sklearn.feature_extraction.text import CountVectorizer\n",
        "from sklearn.feature_extraction.text import TfidfVectorizer\n",
        "from sklearn.model_selection import train_test_split\n",
        "from sklearn.svm import LinearSVC\n",
        "import pandas as pd\n",
        "from sklearn.preprocessing import MultiLabelBinarizer\n",
        "from sklearn.multiclass import OneVsRestClassifier\n",
        "from sklearn.metrics import accuracy_score,precision_recall_fscore_support,f1_score,classification_report\n",
        "import warnings\n",
        "warnings.filterwarnings(\"ignore\")"
      ]
    },
    {
      "cell_type": "code",
      "execution_count": 32,
      "metadata": {
        "colab": {
          "base_uri": "https://localhost:8080/",
          "height": 181
        },
        "id": "XJSHAtQzMvt-",
        "outputId": "7b206957-fdc4-41ea-af59-63e0a6bd8fa1"
      },
      "outputs": [
        {
          "data": {
            "text/html": [
              "<div>\n",
              "<style scoped>\n",
              "    .dataframe tbody tr th:only-of-type {\n",
              "        vertical-align: middle;\n",
              "    }\n",
              "\n",
              "    .dataframe tbody tr th {\n",
              "        vertical-align: top;\n",
              "    }\n",
              "\n",
              "    .dataframe thead th {\n",
              "        text-align: right;\n",
              "    }\n",
              "</style>\n",
              "<table border=\"1\" class=\"dataframe\">\n",
              "  <thead>\n",
              "    <tr style=\"text-align: right;\">\n",
              "      <th></th>\n",
              "      <th>threadid</th>\n",
              "      <th>postid</th>\n",
              "      <th>threadid_postid</th>\n",
              "      <th>author</th>\n",
              "      <th>timestamp</th>\n",
              "      <th>labels</th>\n",
              "      <th>content of post</th>\n",
              "    </tr>\n",
              "  </thead>\n",
              "  <tbody>\n",
              "    <tr>\n",
              "      <th>0</th>\n",
              "      <td>1</td>\n",
              "      <td>1</td>\n",
              "      <td>1_1</td>\n",
              "      <td>a9beaa20-89b2-0130-daa8-5a0007c06fd5</td>\n",
              "      <td>2013-04-17T20:25:04.422+02:00</td>\n",
              "      <td>narrative</td>\n",
              "      <td>Welkom in deze discussiegroep over vermoeidhei...</td>\n",
              "    </tr>\n",
              "    <tr>\n",
              "      <th>1</th>\n",
              "      <td>1</td>\n",
              "      <td>1374</td>\n",
              "      <td>1_1374</td>\n",
              "      <td>3de9bcf0-8d6b-0130-dc3e-5a0007c06fd5</td>\n",
              "      <td>2013-07-01T16:13:51.979+02:00</td>\n",
              "      <td>narrative,question</td>\n",
              "      <td>In juni 2012 is er slokdamkanker bij mij gecon...</td>\n",
              "    </tr>\n",
              "  </tbody>\n",
              "</table>\n",
              "</div>"
            ],
            "text/plain": [
              "   threadid  postid threadid_postid                                author  \\\n",
              "0         1       1             1_1  a9beaa20-89b2-0130-daa8-5a0007c06fd5   \n",
              "1         1    1374          1_1374  3de9bcf0-8d6b-0130-dc3e-5a0007c06fd5   \n",
              "\n",
              "                       timestamp              labels  \\\n",
              "0  2013-04-17T20:25:04.422+02:00           narrative   \n",
              "1  2013-07-01T16:13:51.979+02:00  narrative,question   \n",
              "\n",
              "                                     content of post  \n",
              "0  Welkom in deze discussiegroep over vermoeidhei...  \n",
              "1  In juni 2012 is er slokdamkanker bij mij gecon...  "
            ]
          },
          "execution_count": 32,
          "metadata": {},
          "output_type": "execute_result"
        }
      ],
      "source": [
        "#Read the empowerment data\n",
        "data = pd.read_csv(r\"E:\\Ektha\\Data\\RIVM_labelled_corpus.csv\")\n",
        "data.head(2)"
      ]
    },
    {
      "cell_type": "code",
      "execution_count": 33,
      "metadata": {
        "id": "9O4fOW-XBnav"
      },
      "outputs": [],
      "source": [
        "#Preprocess all the text\n",
        "def preprocess(text):\n",
        "    text = text.lower()\n",
        "    text = re.sub(\"\\n\",\" \",text) #Remove all next lines\n",
        "    text = re.sub(r'<[^>]+>',\"\",text) # remove all html markup\n",
        "    text = re.sub('[^a-zèéeêëėęûüùúūôöòóõœøîïíīįìàáâäæãåçćč&@#A-ZÇĆČÉÈÊËĒĘÛÜÙÚŪÔÖÒÓŒØŌÕÎÏÍĪĮÌ0-9- \\']', \"\", text) #Remove special characters\n",
        "    text = re.sub(\"\\?\",\"question_mark\",text) #Replace question mark as mentioned in the paper\n",
        "    return text"
      ]
    },
    {
      "cell_type": "code",
      "execution_count": 34,
      "metadata": {
        "colab": {
          "base_uri": "https://localhost:8080/"
        },
        "id": "_eX0FLmdNHnp",
        "outputId": "3639a80c-8050-41c9-fc46-5d62577a5941"
      },
      "outputs": [],
      "source": [
        "# Drop any rows from the DataFrame data that contain missing values (NaN) and split the labels into a list of labels\n",
        "data = data.dropna()\n",
        "data[\"new labels\"] = data[\"labels\"].apply(lambda row:str(row).split(\",\"))\n",
        "\n",
        "# Remove rows where labels occur only once\n",
        "value_counts = data[\"new labels\"].value_counts()\n",
        "data = data[data['new labels'].isin(value_counts[value_counts != 1].index)]\n",
        "\n",
        "# Apply the preprocessing function to the data column\n",
        "data['content of post preprocessed'] = data['content of post'].apply(preprocess)\n",
        "\n",
        "# Convert data into numerical format\n",
        "mlb = MultiLabelBinarizer()\n",
        "y = mlb.fit_transform(list(data[\"new labels\"]))\n",
        "\n",
        "# Vectorization of data contents\n",
        "vectorizer = TfidfVectorizer()\n",
        "X = vectorizer.fit_transform(data['content of post preprocessed'])"
      ]
    },
    {
      "cell_type": "code",
      "execution_count": 35,
      "metadata": {
        "colab": {
          "base_uri": "https://localhost:8080/"
        },
        "id": "pLIwRSkmXkqP",
        "outputId": "6bcf6ba5-3e3a-4cea-f1a0-f9793d077b82"
      },
      "outputs": [
        {
          "name": "stdout",
          "output_type": "stream",
          "text": [
            "Training set shape: (4039, 32389) (4039, 5)\n",
            "Testing set shape: (1010, 32389) (1010, 5)\n"
          ]
        }
      ],
      "source": [
        "# Splitting the dataset while maintaining the label balance\n",
        "X_train, X_test, y_train, y_test = train_test_split(X,y, test_size=0.2, stratify=y, random_state=42)\n",
        "\n",
        "# Print shapes to verify the split\n",
        "print(\"Training set shape:\", X_train.shape, y_train.shape)\n",
        "print(\"Testing set shape:\", X_test.shape, y_test.shape)"
      ]
    },
    {
      "cell_type": "code",
      "execution_count": 36,
      "metadata": {
        "id": "yfaXJY8wdZoW"
      },
      "outputs": [],
      "source": [
        "#Multi label classifier (The value C=1.0 is as per the empowerment paper)\n",
        "clf = OneVsRestClassifier(LinearSVC(C=1.0, max_iter=10000, random_state=42))"
      ]
    },
    {
      "cell_type": "code",
      "execution_count": 37,
      "metadata": {
        "colab": {
          "base_uri": "https://localhost:8080/"
        },
        "id": "Ype0ZIFbeFmx",
        "outputId": "bccf3b2c-874a-4e3e-ee11-e703c89b00b3"
      },
      "outputs": [
        {
          "name": "stdout",
          "output_type": "stream",
          "text": [
            "f1_score: [0.         0.         0.         0.81524927 0.        ]\n"
          ]
        }
      ],
      "source": [
        "# Train the model\n",
        "clf.fit(X_train, y_train)\n",
        "\n",
        "# Predict\n",
        "y_pred = clf.predict(X_test)\n",
        "\n",
        "# Evaluate\n",
        "f1_score = f1_score(y_test, y_pred, average =None)\n",
        "print(\"f1_score:\", f1_score)"
      ]
    },
    {
      "cell_type": "code",
      "execution_count": 38,
      "metadata": {
        "colab": {
          "base_uri": "https://localhost:8080/"
        },
        "id": "luhKL8V5iLWl",
        "outputId": "ccd3f7cf-e854-4a06-9bc7-c891d9c338c2"
      },
      "outputs": [
        {
          "name": "stdout",
          "output_type": "stream",
          "text": [
            "Label: emotional_support\n",
            "  Precision: 0.0\n",
            "  Recall: 0.0\n",
            "  F1 Score: 0.0\n",
            "\n",
            "Label: external_source\n",
            "  Precision: 0.0\n",
            "  Recall: 0.0\n",
            "  F1 Score: 0.0\n",
            "\n",
            "Label: informational_support\n",
            "  Precision: 0.0\n",
            "  Recall: 0.0\n",
            "  F1 Score: 0.0\n",
            "\n",
            "Label: narrative\n",
            "  Precision: 0.6881188118811881\n",
            "  Recall: 1.0\n",
            "  F1 Score: 0.8152492668621701\n",
            "\n",
            "Label: question\n",
            "  Precision: 0.0\n",
            "  Recall: 0.0\n",
            "  F1 Score: 0.0\n",
            "\n"
          ]
        }
      ],
      "source": [
        "# Compute precision, recall, and F1 score for each label\n",
        "precision, recall, f1_score, _ = precision_recall_fscore_support(y_test, y_pred, average=None)\n",
        "\n",
        "# Get the label names\n",
        "label_names = mlb.classes_\n",
        "\n",
        "# Print results for each label\n",
        "for i, label in enumerate(label_names):\n",
        "    print(f\"Label: {label}\")\n",
        "    print(f\"  Precision: {precision[i]}\")\n",
        "    print(f\"  Recall: {recall[i]}\")\n",
        "    print(f\"  F1 Score: {f1_score[i]}\")\n",
        "    print()"
      ]
    },
    {
      "cell_type": "code",
      "execution_count": 39,
      "metadata": {
        "colab": {
          "base_uri": "https://localhost:8080/"
        },
        "id": "cfeSB3Obo128",
        "outputId": "15a0856b-015c-4e37-d898-bb76130e184b"
      },
      "outputs": [
        {
          "name": "stdout",
          "output_type": "stream",
          "text": [
            "                       precision    recall  f1-score   support\n",
            "\n",
            "    emotional_support       0.00      0.00      0.00       170\n",
            "      external_source       0.00      0.00      0.00       149\n",
            "informational_support       0.00      0.00      0.00       305\n",
            "            narrative       0.69      1.00      0.82       695\n",
            "             question       0.00      0.00      0.00       263\n",
            "\n",
            "            micro avg       0.69      0.44      0.54      1582\n",
            "            macro avg       0.14      0.20      0.16      1582\n",
            "         weighted avg       0.30      0.44      0.36      1582\n",
            "          samples avg       0.69      0.50      0.56      1582\n",
            "\n"
          ]
        }
      ],
      "source": [
        "print(classification_report(y_test, y_pred,target_names=label_names))"
      ]
    },
    {
      "cell_type": "code",
      "execution_count": null,
      "metadata": {
        "id": "HhPBxs10sOtP"
      },
      "outputs": [],
      "source": []
    },
    {
      "attachments": {},
      "cell_type": "markdown",
      "metadata": {},
      "source": [
        "# Check for best value of c=1.0"
      ]
    },
    {
      "cell_type": "code",
      "execution_count": 41,
      "metadata": {},
      "outputs": [
        {
          "name": "stdout",
          "output_type": "stream",
          "text": [
            "C: 0.001\n",
            "                       precision    recall  f1-score   support\n",
            "\n",
            "    emotional_support       0.00      0.00      0.00       170\n",
            "      external_source       0.00      0.00      0.00       149\n",
            "informational_support       0.00      0.00      0.00       305\n",
            "            narrative       0.69      1.00      0.82       695\n",
            "             question       0.00      0.00      0.00       263\n",
            "\n",
            "            micro avg       0.69      0.44      0.54      1582\n",
            "            macro avg       0.14      0.20      0.16      1582\n",
            "         weighted avg       0.30      0.44      0.36      1582\n",
            "          samples avg       0.69      0.50      0.56      1582\n",
            "\n",
            "C: 0.01\n",
            "                       precision    recall  f1-score   support\n",
            "\n",
            "    emotional_support       1.00      0.01      0.01       170\n",
            "      external_source       0.00      0.00      0.00       149\n",
            "informational_support       1.00      0.01      0.03       305\n",
            "            narrative       0.81      1.00      0.89       695\n",
            "             question       1.00      0.10      0.17       263\n",
            "\n",
            "            micro avg       0.81      0.46      0.58      1582\n",
            "            macro avg       0.76      0.22      0.22      1582\n",
            "         weighted avg       0.82      0.46      0.43      1582\n",
            "          samples avg       0.71      0.52      0.58      1582\n",
            "\n",
            "C: 0.1\n",
            "                       precision    recall  f1-score   support\n",
            "\n",
            "    emotional_support       0.96      0.44      0.60       170\n",
            "      external_source       0.98      0.36      0.53       149\n",
            "informational_support       0.91      0.42      0.57       305\n",
            "            narrative       0.92      0.96      0.94       695\n",
            "             question       0.96      0.54      0.69       263\n",
            "\n",
            "            micro avg       0.93      0.67      0.78      1582\n",
            "            macro avg       0.95      0.54      0.67      1582\n",
            "         weighted avg       0.93      0.67      0.75      1582\n",
            "          samples avg       0.86      0.73      0.77      1582\n",
            "\n",
            "C: 1.0\n",
            "                       precision    recall  f1-score   support\n",
            "\n",
            "    emotional_support       0.96      0.71      0.81       170\n",
            "      external_source       0.89      0.62      0.73       149\n",
            "informational_support       0.85      0.70      0.76       305\n",
            "            narrative       0.94      0.96      0.95       695\n",
            "             question       0.90      0.72      0.80       263\n",
            "\n",
            "            micro avg       0.91      0.81      0.86      1582\n",
            "            macro avg       0.91      0.74      0.81      1582\n",
            "         weighted avg       0.91      0.81      0.85      1582\n",
            "          samples avg       0.90      0.85      0.85      1582\n",
            "\n",
            "C: 10\n",
            "                       precision    recall  f1-score   support\n",
            "\n",
            "    emotional_support       0.91      0.75      0.83       170\n",
            "      external_source       0.81      0.59      0.68       149\n",
            "informational_support       0.81      0.75      0.78       305\n",
            "            narrative       0.93      0.96      0.95       695\n",
            "             question       0.88      0.75      0.81       263\n",
            "\n",
            "            micro avg       0.89      0.83      0.86      1582\n",
            "            macro avg       0.87      0.76      0.81      1582\n",
            "         weighted avg       0.89      0.83      0.85      1582\n",
            "          samples avg       0.88      0.86      0.85      1582\n",
            "\n",
            "C: 100\n",
            "                       precision    recall  f1-score   support\n",
            "\n",
            "    emotional_support       0.87      0.76      0.82       170\n",
            "      external_source       0.81      0.59      0.68       149\n",
            "informational_support       0.81      0.76      0.79       305\n",
            "            narrative       0.93      0.96      0.94       695\n",
            "             question       0.86      0.75      0.80       263\n",
            "\n",
            "            micro avg       0.88      0.83      0.86      1582\n",
            "            macro avg       0.86      0.77      0.81      1582\n",
            "         weighted avg       0.88      0.83      0.85      1582\n",
            "          samples avg       0.88      0.86      0.85      1582\n",
            "\n",
            "C: 1000\n",
            "                       precision    recall  f1-score   support\n",
            "\n",
            "    emotional_support       0.87      0.76      0.82       170\n",
            "      external_source       0.81      0.59      0.68       149\n",
            "informational_support       0.81      0.75      0.78       305\n",
            "            narrative       0.93      0.96      0.94       695\n",
            "             question       0.86      0.75      0.80       263\n",
            "\n",
            "            micro avg       0.88      0.83      0.85      1582\n",
            "            macro avg       0.86      0.76      0.80      1582\n",
            "         weighted avg       0.88      0.83      0.85      1582\n",
            "          samples avg       0.88      0.86      0.84      1582\n",
            "\n"
          ]
        }
      ],
      "source": [
        "c = [0.001, 0.01 , 0.1, 1.0, 10,100,1000]\n",
        "\n",
        "for val in c:\n",
        "\n",
        "    #Multi label classifier (The value C=1.0 is as per the empowerment paper)\n",
        "    clf = OneVsRestClassifier(LinearSVC(C=val, max_iter=10000, random_state=42))\n",
        "    \n",
        "    # Train the model\n",
        "    clf.fit(X_train, y_train)\n",
        "\n",
        "    # Predict\n",
        "    y_pred = clf.predict(X_test)\n",
        "\n",
        "    # Evaluate\n",
        "    #f1_score = f1_score(y_test, y_pred, average =None)\n",
        "\n",
        "    print(\"C:\",val)\n",
        "   \n",
        "    print(classification_report(y_test, y_pred,target_names=label_names))"
      ]
    }
  ],
  "metadata": {
    "colab": {
      "provenance": []
    },
    "kernelspec": {
      "display_name": "Python 3",
      "language": "python",
      "name": "python3"
    },
    "language_info": {
      "codemirror_mode": {
        "name": "ipython",
        "version": 3
      },
      "file_extension": ".py",
      "mimetype": "text/x-python",
      "name": "python",
      "nbconvert_exporter": "python",
      "pygments_lexer": "ipython3",
      "version": "3.11.3"
    },
    "vscode": {
      "interpreter": {
        "hash": "db8f6fe2c73d52efb0db1d408b7a5b5a8f8e128d3b65693194c9f744dd911af9"
      }
    }
  },
  "nbformat": 4,
  "nbformat_minor": 0
}
